{
 "cells": [
  {
   "cell_type": "markdown",
   "id": "da7e80f7-ce1c-470c-bafd-1bf8407ee72a",
   "metadata": {},
   "source": [
    "Import Necessary Libraries: First, you'll need to import the libraries we'll be using. For image processing and machine learning, we'll use libraries like TensorFlow/Keras and OpenCV.\n"
   ]
  },
  {
   "cell_type": "code",
   "execution_count": null,
   "id": "d947b8d9-a5ec-4b0c-85f5-6f3ef04262d7",
   "metadata": {
    "tags": []
   },
   "outputs": [],
   "source": [
    "!pip install opencv-python\n",
    "#!pip install -U tensorflow"
   ]
  },
  {
   "cell_type": "code",
   "execution_count": null,
   "id": "7e41d36a-00b3-455b-91bd-5a8ad5d8d38c",
   "metadata": {
    "tags": []
   },
   "outputs": [],
   "source": [
    "import os\n",
    "import numpy as np\n",
    "import cv2\n",
    "import matplotlib.pyplot as plt\n",
    "from sklearn.model_selection import train_test_split\n",
    "from tensorflow.keras.utils import to_categorical\n",
    "from tensorflow.keras.models import Sequential\n",
    "from tensorflow.keras.layers import Conv2D, MaxPooling2D, Flatten, Dense, Dropout\n",
    "from tensorflow.keras.preprocessing.image import ImageDataGenerator"
   ]
  },
  {
   "cell_type": "code",
   "execution_count": null,
   "id": "1f57e436-6fb6-4a6f-a483-f6ee604f83b1",
   "metadata": {
    "tags": []
   },
   "outputs": [],
   "source": [
    "def load_data(data_dir):\n",
    "    images = []\n",
    "    labels = []\n",
    "    label_names = sorted(os.listdir(data_dir))\n",
    "    label_map = {label: idx for idx, label in enumerate(label_names)}\n",
    "    \n",
    "    for label in label_names:\n",
    "        label_dir = os.path.join(data_dir, label)\n",
    "        for img_file in os.listdir(label_dir):\n",
    "            img_path = os.path.join(label_dir, img_file)\n",
    "            img = cv2.imread(img_path)\n",
    "            if img is not None:\n",
    "                img = cv2.resize(img, (128, 128))  # Resize images to a uniform size\n",
    "                images.append(img)\n",
    "                labels.append(label_map[label])\n",
    "    \n",
    "    return np.array(images), np.array(labels), label_map"
   ]
  },
  {
   "cell_type": "markdown",
   "id": "21408233-c930-4869-82a2-9f815128c7f9",
   "metadata": {},
   "source": [
    "Load training and validation data. We split dataset into train and valid."
   ]
  },
  {
   "cell_type": "code",
   "execution_count": null,
   "id": "7a48dc13-298a-4a32-bc5d-0505e0d59ee1",
   "metadata": {
    "tags": []
   },
   "outputs": [],
   "source": [
    "train_dir = '/home/datascience/kaggle/new_plant_disease_dataset_augmented/new_plant_disease_dataset_augmented/train'\n",
    "val_dir = '/home/datascience/kaggle/new_plant_disease_dataset_augmented/new_plant_disease_dataset_augmented/valid'"
   ]
  },
  {
   "cell_type": "code",
   "execution_count": null,
   "id": "6c7809fb-351a-4dd8-8e8f-ce7de33c36bf",
   "metadata": {
    "tags": []
   },
   "outputs": [],
   "source": [
    "X_train, y_train, label_map = load_data(train_dir)\n",
    "X_val, y_val, _ = load_data(val_dir)\n",
    "\n",
    "\n",
    "# Print the first 5 images and their labels\n",
    "for i in range(5):\n",
    "    plt.imshow(X_train[i])\n",
    "    plt.title(f\"Label: {list(label_map.keys())[y_train[i]]}\")\n",
    "    plt.axis('off')\n",
    "    plt.show()"
   ]
  },
  {
   "cell_type": "markdown",
   "id": "0c5380d9-937d-4552-b240-92458185bbb6",
   "metadata": {},
   "source": [
    "Normalize pixel values so that you have model learn faster and perform better"
   ]
  },
  {
   "cell_type": "code",
   "execution_count": null,
   "id": "e3e8c119-2702-4365-8a41-2ba25781c32d",
   "metadata": {
    "tags": []
   },
   "outputs": [],
   "source": [
    "# Normalize pixel values\n",
    "X_train = X_train / 255.0\n",
    "X_val = X_val / 255.0"
   ]
  },
  {
   "cell_type": "markdown",
   "id": "d86b9cb0-da96-4973-8308-347b2a4ce94a",
   "metadata": {},
   "source": [
    "Convert labels to one-hot encoding. So that machine algorithm understand the data"
   ]
  },
  {
   "cell_type": "code",
   "execution_count": null,
   "id": "138d9a25-f69a-40f2-a9fd-249a17b4e329",
   "metadata": {
    "tags": []
   },
   "outputs": [],
   "source": [
    "\n",
    "y_train = to_categorical(y_train, num_classes=len(label_map))\n",
    "y_val = to_categorical(y_val, num_classes=len(label_map))"
   ]
  },
  {
   "cell_type": "markdown",
   "id": "038e7197-7331-4145-8487-33d01a9145ae",
   "metadata": {},
   "source": [
    "Perform data augmentation"
   ]
  },
  {
   "cell_type": "code",
   "execution_count": null,
   "id": "63c70dbd-2b1c-4f17-8591-5a9db777b950",
   "metadata": {
    "tags": []
   },
   "outputs": [],
   "source": [
    "datagen = ImageDataGenerator(\n",
    "    rotation_range=20,\n",
    "    width_shift_range=0.2,\n",
    "    height_shift_range=0.2,\n",
    "    shear_range=0.2,\n",
    "    zoom_range=0.2,\n",
    "    horizontal_flip=True,\n",
    "    fill_mode='nearest'\n",
    ")\n",
    "datagen.fit(X_train)"
   ]
  },
  {
   "cell_type": "markdown",
   "id": "74b7ed61-c9cb-4617-b087-14e0c3bba270",
   "metadata": {},
   "source": [
    "Build the CNN model"
   ]
  },
  {
   "cell_type": "code",
   "execution_count": null,
   "id": "d1413e56-5ca1-4e1d-b124-59ccc2161319",
   "metadata": {
    "tags": []
   },
   "outputs": [],
   "source": [
    "model = Sequential([\n",
    "    Conv2D(32, (3, 3), activation='relu', input_shape=(128, 128, 3)),\n",
    "    MaxPooling2D((2, 2)),\n",
    "    Conv2D(64, (3, 3), activation='relu'),\n",
    "    MaxPooling2D((2, 2)),\n",
    "    Conv2D(128, (3, 3), activation='relu'),\n",
    "    MaxPooling2D((2, 2)),\n",
    "    Flatten(),\n",
    "    Dense(128, activation='relu'),\n",
    "    Dropout(0.5),\n",
    "    Dense(len(label_map), activation='softmax')\n",
    "])\n",
    "#1 layer of convolution 2d with 32 filters 3x3 kernal size\n",
    "#max pooling layer - maximum values of the feature map\n",
    "#flatten turns into an array\n",
    "#dense is when we feed it into the neura lnetwork\n",
    "#dropout - turns off filters in layer to minimize overfitting\n",
    "#dense(len) = output layer - have softmax b/c we have multiclass classification\n",
    "model.compile(optimizer='adam', loss='categorical_crossentropy', metrics=['accuracy'])"
   ]
  },
  {
   "cell_type": "markdown",
   "id": "ea617bf6-d0c0-4622-a9ab-b283a42bd7a6",
   "metadata": {},
   "source": [
    "Now Set up TensorBoard and train the model"
   ]
  },
  {
   "cell_type": "code",
   "execution_count": null,
   "id": "ebeb24c1-89ef-46f6-9542-d8794be77a4b",
   "metadata": {
    "tags": []
   },
   "outputs": [],
   "source": [
    "import tensorflow as tf\n",
    "from tensorflow.keras.callbacks import TensorBoard\n",
    "import datetime\n",
    "import math\n",
    "\n",
    "log_dir = \"logs/fit/\" + datetime.datetime.now().strftime(\"%Y%m%d-%H%M%S\")\n",
    "tensorboard_callback = TensorBoard(log_dir=log_dir, histogram_freq=1)\n",
    "\n",
    "# Train the model\n",
    "history = model.fit(datagen.flow(X_train, y_train, batch_size=32), \n",
    "                    steps_per_epoch=math.ceil(len(X_train) / 32), \n",
    "                    epochs=20, \n",
    "                    validation_data=(X_val, y_val),\n",
    "                    callbacks=[tensorboard_callback])\n",
    "\n",
    "# Launch TensorBoard\n",
    "%load_ext tensorboard\n",
    "%tensorboard --logdir logs/fit"
   ]
  },
  {
   "cell_type": "code",
   "execution_count": null,
   "id": "7e004ec0-a112-4d96-b6ed-d16f30ad073b",
   "metadata": {
    "tags": []
   },
   "outputs": [],
   "source": [
    "## Save the trained model\n",
    "# Save the entire model to a HDF5 file\n",
    "model.save('/home/datascience/model/my_model')"
   ]
  },
  {
   "cell_type": "code",
   "execution_count": null,
   "id": "0cbe5046-2215-4efe-b918-30ce18b30a4b",
   "metadata": {},
   "outputs": [],
   "source": [
    "## Lets just process one image at a time and see what label does it predict based on the image.\n",
    "import cv2\n",
    "import numpy as np\n",
    "from tensorflow.keras.models import load_model\n",
    "\n",
    "# Load the trained model\n",
    "model = load_model('/home/datascience/model/my_model')\n",
    "\n",
    "# Function to preprocess the image\n",
    "def preprocess_image(image_path, img_size=(128, 128)):\n",
    "    img = cv2.imread(image_path)\n",
    "    img = cv2.resize(img, img_size)  # Resize image\n",
    "    img = img.astype('float32') / 255.0  # Normalize pixel values\n",
    "    img = np.expand_dims(img, axis=0)  # Add batch dimension\n",
    "    return img\n",
    "\n",
    "# Function to predict label for the image\n",
    "def predict_label(image_path):\n",
    "    img = preprocess_image(image_path)\n",
    "    prediction = model.predict(img)\n",
    "    predicted_label = np.argmax(prediction, axis=1)[0]\n",
    "    return predicted_label\n",
    "\n",
    "# Path to the image\n",
    "image_path = '/home/datascience/kaggle/test/test/Apple___Cedar_apple_rust/Apple___Cedar_apple_rust1.jpg'\n",
    "\n",
    "# Predict label for the image\n",
    "predicted_label = predict_label(image_path)\n",
    "\n",
    "# Print the predicted label\n",
    "#print(f\"Predicted Label: {list(label_map.keys())[predicted_label]}\")\n",
    "\n",
    "# Print the predicted label with the Image\n",
    "X_test = preprocess_image(image_path)\n",
    "plt.figure(figsize=(5, 25))\n",
    "for i in range(1):\n",
    "    # Display image\n",
    "    ax = plt.subplot(5, 1, i + 1)\n",
    "    plt.imshow(cv2.cvtColor((X_test[i] * 255).astype(np.uint8), cv2.COLOR_BGR2RGB))\n",
    "    ax.set_title(f\"Predicted Label: {list(label_map.keys())[predicted_label]}\", fontsize=12, y=-0.15)\n",
    "    plt.axis(\"off\")\n",
    "    plt.subplots_adjust(hspace=0.5)\n",
    "plt.show()\n"
   ]
  },
  {
   "cell_type": "code",
   "execution_count": null,
   "id": "bbd7f9ff-9f17-4286-9c7e-819480d56e06",
   "metadata": {
    "tags": []
   },
   "outputs": [],
   "source": [
    "#Now lets us load all the files and show predicted label\n",
    "import os\n",
    "import cv2\n",
    "import numpy as np\n",
    "import pandas as pd\n",
    "import matplotlib.pyplot as plt\n",
    "from tensorflow.keras.models import load_model\n",
    "from tabulate import tabulate\n",
    "\n",
    "# Load the trained model\n",
    "model = load_model('/home/datascience/model/my_model')\n",
    "\n",
    "# Function to preprocess the image\n",
    "def preprocess_image(image_path, img_size=(128, 128)):\n",
    "    img = cv2.imread(image_path)\n",
    "    img = cv2.resize(img, img_size)  # Resize image\n",
    "    img = img.astype('float32') / 255.0  # Normalize pixel values\n",
    "    img = np.expand_dims(img, axis=0)  # Add batch dimension\n",
    "    return img\n",
    "\n",
    "# Function to predict label for the image\n",
    "def predict_label(image_path):\n",
    "    img = preprocess_image(image_path)\n",
    "    prediction = model.predict(img)\n",
    "    predicted_label = np.argmax(prediction, axis=1)[0]\n",
    "    return predicted_label\n",
    "\n",
    "\n",
    "\n",
    "# Function to display image with predicted label\n",
    "def display_image_with_label(image_path):\n",
    "    predicted_label = predict_label(image_path)\n",
    "    img = cv2.imread(image_path)\n",
    "    img_rgb = cv2.cvtColor(img, cv2.COLOR_BGR2RGB)\n",
    "    file_name = os.path.basename(image_path)\n",
    "    plt.imshow(img_rgb)\n",
    "    plt.title(f\"Actual File Name: {filename}\\nActual Label: {actual_label}\\nPredicted Label: {list(label_map.keys())[predicted_label]}\", fontsize=12, y=-0.15)\n",
    "    plt.axis('off')\n",
    "    plt.show()\n",
    "    print(f\"Actual File Name: {filename}\\nActual Label: {actual_label}\\nPredicted Label: {list(label_map.keys())[predicted_label]}\")\n",
    "\n",
    "\n",
    "# Path to the directory containing images\n",
    "directory_path = '/home/datascience/kaggle/test/test'\n",
    "\n",
    "# List to store file names and predicted labels\n",
    "results = []\n",
    "\n",
    "########### File name containts the actual label#############\n",
    "## Iterate over each image in the directory and display it with the predicted label\n",
    "#for filename in os.listdir(directory_path):\n",
    "#    if filename.endswith(\".jpg\"):\n",
    "#        image_path = os.path.join(directory_path, filename)\n",
    "#        predicted_label = predict_label(image_path)\n",
    "#results.append((filename, {list(label_map.keys())[predicted_label]}))\n",
    "\n",
    "# Since our test data has lots of files, we need to limit the number of displays\n",
    "\n",
    "\n",
    "\n",
    "########### Sub directory contains the actual label#############\n",
    "# Iterate over each subdirectory in the directory\n",
    "# Counter to limit the number of displayed images\n",
    "display_count = 0\n",
    "display_limit = 8\n",
    "\n",
    "for subdir in os.listdir(directory_path):\n",
    "    subdir_path = os.path.join(directory_path, subdir)\n",
    "    if os.path.isdir(subdir_path):\n",
    "        actual_label = subdir\n",
    "        # Iterate over each image in the subdirectory\n",
    "        for filename in os.listdir(subdir_path):\n",
    "            if filename.endswith(\".jpg\"):\n",
    "                image_path = os.path.join(subdir_path, filename)\n",
    "                predicted_label = predict_label(image_path)\n",
    "                results.append((filename, actual_label, {list(label_map.keys())[predicted_label]}))\n",
    "                # Uncomment the next line to display each image with its predicted label\n",
    "                if display_count < display_limit:\n",
    "                    display_image_with_label(image_path)\n",
    "                    display_count += 1\n",
    "                # Break if the display limit is reached\n",
    "                if display_count >= display_limit:\n",
    "                    break\n",
    "        # Break if the display limit is reached\n",
    "        if display_count >= display_limit:\n",
    "            break"
   ]
  },
  {
   "cell_type": "code",
   "execution_count": null,
   "id": "ab363a19-1d15-4dc5-b576-e7ea2d2018d2",
   "metadata": {
    "tags": []
   },
   "outputs": [],
   "source": [
    "#Print the results in tabular format:\n",
    "\n",
    "# Iterate over each subdirectory in the directory\n",
    "for subdir in os.listdir(directory_path):\n",
    "    subdir_path = os.path.join(directory_path, subdir)\n",
    "    if os.path.isdir(subdir_path):\n",
    "        actual_label = subdir\n",
    "        # Iterate over each image in the subdirectory\n",
    "        for filename in os.listdir(subdir_path):\n",
    "            if filename.endswith(\".jpg\"):\n",
    "                image_path = os.path.join(subdir_path, filename)\n",
    "                predicted_label = predict_label(image_path)\n",
    "                results.append((filename, actual_label, {list(label_map.keys())[predicted_label]}))\n",
    "\n",
    "# Create a DataFrame from the results\n",
    "df = pd.DataFrame(results, columns=['File Name','Actual Label', 'Predicted Label'])\n",
    "\n",
    "# Display the table\n",
    "#print(df)\n",
    "print(tabulate(df, headers='keys', tablefmt='grid'))"
   ]
  },
  {
   "cell_type": "code",
   "execution_count": null,
   "id": "9e4f73ec-7b6e-4cbe-b5c6-3412efdf3a0c",
   "metadata": {
    "tags": []
   },
   "outputs": [],
   "source": [
    "al = list(df[\"Actual Label\"].tolist())\n",
    "pl = list(df[\"Predicted Label\"].tolist())"
   ]
  },
  {
   "cell_type": "code",
   "execution_count": 126,
   "id": "95794581-f2c6-40fe-ad05-beb0186065e8",
   "metadata": {
    "tags": []
   },
   "outputs": [],
   "source": [
    "result_new = []\n",
    "\n",
    "for x in range(len(al)):\n",
    "    k = (al[x], set(pl[x]))\n",
    "    result_new.append(k)"
   ]
  },
  {
   "cell_type": "code",
   "execution_count": 128,
   "id": "9b4bcd33-565b-4771-a045-69251148cc8a",
   "metadata": {
    "tags": []
   },
   "outputs": [
    {
     "data": {
      "image/png": "[encoded data removed]",
      "text/plain": [
       "<Figure size 1000x800 with 2 Axes>"
      ]
     },
     "metadata": {},
     "output_type": "display_data"
    }
   ],
   "source": [
    "import numpy as np\n",
    "import matplotlib.pyplot as plt\n",
    "import seaborn as sns\n",
    "from sklearn.metrics import confusion_matrix\n",
    "# Extract actual and predicted labels\n",
    "actual = [item[0].split('___')[0] + '___' + item[0].split('___')[1].split('.')[0] for item in result_new]\n",
    "predicted = [list(item[1])[0] for item in result_new]\n",
    "\n",
    "# Create a confusion matrix\n",
    "labels = sorted(set(actual + predicted))  # Get all unique labels\n",
    "conf_matrix = confusion_matrix(actual, predicted, labels=labels)\n",
    "\n",
    "# Plot the confusion matrix\n",
    "plt.figure(figsize=(10, 8))\n",
    "sns.heatmap(conf_matrix, annot=True, fmt='d', cmap='Blues', xticklabels=labels, yticklabels=labels)\n",
    "plt.xlabel('Predicted labels')\n",
    "plt.ylabel('True labels')\n",
    "plt.title('Confusion Matrix')\n",
    "plt.xticks(rotation=90)\n",
    "plt.yticks(rotation=0)\n",
    "plt.show()"
   ]
  },
  {
   "cell_type": "code",
   "execution_count": 131,
   "id": "0bdec925-6371-4367-936c-88479a7aaf74",
   "metadata": {
    "tags": []
   },
   "outputs": [
    {
     "data": {
      "text/plain": [
       "<Figure size 640x480 with 0 Axes>"
      ]
     },
     "metadata": {},
     "output_type": "display_data"
    }
   ],
   "source": [
    "plt.savefig(\"cm\")"
   ]
  },
  {
   "cell_type": "code",
   "execution_count": null,
   "id": "a5c44415-939d-4d9f-a8aa-d5931075db33",
   "metadata": {
    "tags": []
   },
   "outputs": [],
   "source": [
    "results[:10]"
   ]
  },
  {
   "cell_type": "code",
   "execution_count": null,
   "id": "83944e5f-c0df-4a6a-9f4d-46cc6e6942c9",
   "metadata": {},
   "outputs": [],
   "source": [
    "#ONLY RUN THIS AFTER WE HAVE LABELLED THE TESTING FOLDER! THIS RENAMES ALL IMAGES TO .jpg INSTEAD OF .JPG\n",
    "\n",
    "\n",
    "import os\n",
    "\n",
    "# Path to the directory containing images\n",
    "directory_path = '/home/datascience/kaggle/test/test'\n",
    "\n",
    "# List all files in the directory\n",
    "all_files = os.listdir(directory_path)\n",
    "\n",
    "# Iterate over each file\n",
    "for filename in all_files:\n",
    "    # Check if the file extension is .JPG (case-sensitive)\n",
    "    if filename.endswith(\".JPG\"):\n",
    "        # Create the full old and new file paths\n",
    "        old_file_path = os.path.join(directory_path, filename)\n",
    "        new_file_path = os.path.join(directory_path, filename.replace(\".JPG\", \".jpg\"))\n",
    "        \n",
    "        # Rename the file\n",
    "        os.rename(old_file_path, new_file_path)\n",
    "\n",
    "print(\"Renaming complete.\")\n"
   ]
  },
  {
   "cell_type": "code",
   "execution_count": null,
   "id": "777cbbdc-08a9-40e1-a639-512b93aa1a45",
   "metadata": {},
   "outputs": [],
   "source": [
    "#checks if any files are not in proper format\n",
    "\n",
    "for f in all_files:\n",
    "    if not f.endswith(\".jpg\"):\n",
    "        print(f\"Non-JPG file: {f}\")\n"
   ]
  },
  {
   "cell_type": "code",
   "execution_count": null,
   "id": "fe09ff69-1924-456a-b562-1b7c1a85c828",
   "metadata": {},
   "outputs": [],
   "source": []
  }
 ],
 "metadata": {
  "kernelspec": {
   "display_name": "Python [conda env:tensorflow28_p38_gpu_v1]",
   "language": "python",
   "name": "conda-env-tensorflow28_p38_gpu_v1-py"
  },
  "language_info": {
   "codemirror_mode": {
    "name": "ipython",
    "version": 3
   },
   "file_extension": ".py",
   "mimetype": "text/x-python",
   "name": "python",
   "nbconvert_exporter": "python",
   "pygments_lexer": "ipython3",
   "version": "3.8.13"
  }
 },
 "nbformat": 4,
 "nbformat_minor": 5
}
